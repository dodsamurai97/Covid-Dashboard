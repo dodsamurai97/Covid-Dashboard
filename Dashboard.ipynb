{
 "cells": [
  {
   "cell_type": "markdown",
   "metadata": {},
   "source": [
    "# Vaccination Effects On Covid19"
   ]
  },
  {
   "cell_type": "markdown",
   "metadata": {},
   "source": [
    "These figures aim to show how vaccinations in the UK have helped to mitigate the spread of covid19 as well as to compare the vaccine responses in the UK between two of its major countries, **England** and **Scotland**."
   ]
  },
  {
   "cell_type": "code",
   "execution_count": 1,
   "metadata": {},
   "outputs": [],
   "source": [
    "from IPython.display import clear_output\n",
    "import ipywidgets as wdg\n",
    "import pandas as pd\n",
    "import numpy as np\n",
    "import matplotlib.pyplot as plt\n",
    "import json\n",
    "from uk_covid19 import Cov19API"
   ]
  },
  {
   "cell_type": "code",
   "execution_count": 2,
   "metadata": {},
   "outputs": [],
   "source": [
    "%matplotlib inline\n",
    "# make graphs larger\n",
    "plt.rcParams['figure.dpi'] = 120"
   ]
  },
  {
   "cell_type": "code",
   "execution_count": 3,
   "metadata": {},
   "outputs": [],
   "source": [
    "#Loads data from the json files \n",
    "with open(\"vaccine_effect.json\", \"rt\") as INFILE:\n",
    "    data1=json.load(INFILE)\n",
    "with open(\"vaccination_England.json\", \"rt\") as INFILE:\n",
    "    data2=json.load(INFILE)\n",
    "with open(\"vaccination_Scotland.json\", \"rt\") as INFILE:\n",
    "    data3=json.load(INFILE)\n",
    "jsondata={1:data1, 2:data2, 3:data3}"
   ]
  },
  {
   "cell_type": "code",
   "execution_count": 4,
   "metadata": {},
   "outputs": [],
   "source": [
    "# Puts the date data into the date time format. \n",
    "def parse_date(datestring):\n",
    "    return pd.to_datetime(datestring, format=\"%Y-%m-%d\")\n",
    "\n",
    "# Extracts the data section from the json file\n",
    "# Creates a range of days between the first and last days\n",
    "# Adds the remaining data for each date. \n",
    "# Returns a table of values to be plot\n",
    "def wrangle_data1(rawdata):\n",
    "    datalist=rawdata['data']\n",
    "    dates=[dictionary['date'] for dictionary in datalist ]\n",
    "    dates.sort()\n",
    "    startdate1=parse_date(dates[0])\n",
    "    enddate1=parse_date(dates[-1])\n",
    "    index=pd.date_range(startdate1, enddate1, freq='D')\n",
    "    vaccine_effectdf=pd.DataFrame(index=index, columns=['cases', 'hospital', 'deaths', 'vaccines'])\n",
    "    for entry in datalist: \n",
    "        date=parse_date(entry['date'])\n",
    "        for column in ['cases', 'hospital', 'deaths', 'vaccines']:\n",
    "            if pd.isna(vaccine_effectdf.loc[date, column]): \n",
    "                value= float(entry[column]) if entry[column]!=None else 0.0\n",
    "                vaccine_effectdf.loc[date, column]=value\n",
    "    vaccine_effectdf.fillna(0.0, inplace=True)\n",
    "    return vaccine_effectdf\n",
    "\n",
    "def wrangle_data2(rawdata):\n",
    "    datalist=rawdata['data']\n",
    "    dates=[dictionary['date'] for dictionary in datalist ]\n",
    "    dates.sort()\n",
    "    startdate2=parse_date(dates[0])\n",
    "    enddate2=parse_date(dates[-1])\n",
    "    index=pd.date_range(startdate2, enddate2, freq='D')\n",
    "    vaccination_Englanddf=pd.DataFrame(index=index, columns=['vaccines1','vaccines2'])\n",
    "    for entry in datalist: \n",
    "        date=parse_date(entry['date'])\n",
    "        for column in ['vaccines1','vaccines2']:\n",
    "            if pd.isna(vaccination_Englanddf.loc[date, column]): \n",
    "                value= float(entry[column]) if entry[column]!=None else 0.0\n",
    "                vaccination_Englanddf.loc[date, column]=value\n",
    "    vaccination_Englanddf.fillna(0.0, inplace=True)\n",
    "    return vaccination_Englanddf\n",
    "\n",
    "def wrangle_data3(rawdata):\n",
    "    datalist=rawdata['data']\n",
    "    dates=[dictionary['date'] for dictionary in datalist ]\n",
    "    dates.sort()\n",
    "    startdate3=parse_date(dates[0])\n",
    "    enddate3=parse_date(dates[-1])\n",
    "    index=pd.date_range(startdate3, enddate3, freq='D')\n",
    "    vaccination_Scotlanddf=pd.DataFrame(index=index, columns=['vaccines1','vaccines2'])\n",
    "    for entry in datalist: \n",
    "        date=parse_date(entry['date'])\n",
    "        for column in ['vaccines1','vaccines2']:\n",
    "            if pd.isna(vaccination_Scotlanddf.loc[date, column]): \n",
    "                value= float(entry[column]) if entry[column]!=None else 0.0\n",
    "                vaccination_Scotlanddf.loc[date, column]=value\n",
    "    vaccination_Scotlanddf.fillna(0.0, inplace=True)\n",
    "    return vaccination_Scotlanddf\n",
    "\n",
    "vaccine_effectdf=wrangle_data1(jsondata[1]) \n",
    "vaccination_Englanddf = wrangle_data2(jsondata[2])\n",
    "vaccination_Scotlanddf = wrangle_data3(jsondata[3]) "
   ]
  },
  {
   "cell_type": "markdown",
   "metadata": {},
   "source": [
    "## Download current data"
   ]
  },
  {
   "cell_type": "markdown",
   "metadata": {},
   "source": [
    "Firstly, you may click the button below to update the data from Public Health England. This allows you to obtain up-to-date graphical representations when you next load this webpage. ***After clicking this update button, please wait a few seconds***(this is needed as so not to to barred from accessing the data due to too great a request at once)"
   ]
  },
  {
   "cell_type": "code",
   "execution_count": 5,
   "metadata": {},
   "outputs": [],
   "source": [
    "# Gets data from the Public Health England API for each graph.\n",
    "# Stores this information in a json file\n",
    "def access_api():\n",
    "    from uk_covid19 import Cov19API\n",
    "    import json\n",
    "    import time\n",
    "    \n",
    "    \n",
    "    filters = [\n",
    "        'areaType=nation',\n",
    "        'areaName=England'\n",
    "    ]\n",
    "\n",
    "\n",
    "    structure = {\n",
    "        \"date\": \"date\",\n",
    "        \"cases\": \"newCasesByPublishDate\",\n",
    "        \"hospital\": \"newAdmissions\",\n",
    "        \"deaths\": \"newDailyNsoDeathsByDeathDate\",\n",
    "        \"vaccines\": \"newPeopleVaccinatedSecondDoseByVaccinationDate\"  \n",
    "    }\n",
    "    \n",
    "    api = Cov19API(filters=filters, structure=structure)\n",
    "    \n",
    "    vaccine_effect=api.get_json()\n",
    "    \n",
    "    with open(\"vaccine_effect.json\", \"wt\") as OUTF:\n",
    "        json.dump(vaccine_effect, OUTF)\n",
    "        \n",
    "    time.sleep(0.25)# tells the computer to wait 0.5 seconds before running the remainder of the code\n",
    "    \n",
    "    filters = [\n",
    "    'areaType=nation',\n",
    "    'areaName=England'\n",
    "    \n",
    "    ]\n",
    "\n",
    "    structure = {\n",
    "    \"date\": \"date\",\n",
    "    \"vaccines1\": \"newPeopleVaccinatedFirstDoseByVaccinationDate\",  \n",
    "    \"vaccines2\": \"newPeopleVaccinatedSecondDoseByVaccinationDate\"\n",
    "    }\n",
    "    \n",
    "    api = Cov19API(filters=filters, structure=structure)\n",
    "    \n",
    "    vaccination_England=api.get_json()\n",
    "    \n",
    "    \n",
    "    with open(\"vaccination_England.json\", \"wt\") as OUTF:\n",
    "        json.dump(vaccination_England, OUTF)\n",
    "        \n",
    "    time.sleep(0.25)\n",
    "    \n",
    "    filters = [\n",
    "    'areaType=nation',\n",
    "    'areaName=Scotland'\n",
    "    \n",
    "    ]\n",
    "\n",
    "    structure = {\n",
    "    \"date\": \"date\",\n",
    "    \"vaccines1\": \"newPeopleVaccinatedFirstDoseByVaccinationDate\",  \n",
    "    \"vaccines2\": \"newPeopleVaccinatedSecondDoseByVaccinationDate\"\n",
    "    }\n",
    "    \n",
    "    api = Cov19API(filters=filters, structure=structure)\n",
    "    \n",
    "    vaccination_Scotland=api.get_json()\n",
    "    \n",
    "    \n",
    "    with open(\"vaccination_Scotland.json\", \"wt\") as OUTF:\n",
    "        json.dump(vaccination_Scotland, OUTF)\n",
    "\n",
    "    with open(\"vaccine_effect.json\", \"rt\") as INFILE:\n",
    "        data1=json.load(INFILE)\n",
    "    \n",
    "    with open(\"vaccination_England.json\", \"rt\") as INFILE:\n",
    "        data2=json.load(INFILE)\n",
    "        \n",
    "    with open(\"vaccination_Scotland.json\", \"rt\") as INFILE:\n",
    "        data3=json.load(INFILE)\n",
    "    \n",
    "    jsondata={1:data1, 2:data2, 3:data3}\n",
    "    return jsondata "
   ]
  },
  {
   "cell_type": "code",
   "execution_count": 6,
   "metadata": {},
   "outputs": [
    {
     "data": {
      "application/vnd.jupyter.widget-view+json": {
       "model_id": "ae3c0a5ca0d94648b4513790d58e8579",
       "version_major": 2,
       "version_minor": 0
      },
      "text/plain": [
       "Button(button_style='success', description='Update Data', icon='download', style=ButtonStyle(), tooltip='Click…"
      ]
     },
     "metadata": {},
     "output_type": "display_data"
    }
   ],
   "source": [
    "# wrangles the newly obtained data from the API and overwrites the previous data with new data\n",
    "def api_button_callback(button):\n",
    "    apidata=access_api()\n",
    "    global vaccine_effectdf\n",
    "    global vaccination_Englanddf\n",
    "    global vaccination_Scotlanddf\n",
    "    \n",
    "    vaccine_effectdf = wrangle_data1(apidata[1]) \n",
    "    vaccination_Englanddf = wrangle_data2(apidata[2])\n",
    "    vaccination_Scotlanddf = wrangle_data3(apidata[3]) \n",
    "    \n",
    "    refresh_graph1()\n",
    "    refresh_graph2()\n",
    "    refresh_graph3()\n",
    "    \n",
    "    apibutton.icon=\"check\"\n",
    "    apibutton.disabled=True\n",
    "\n",
    "# button press to call the function to get new API data and also refresh the following graphs   \n",
    "apibutton=wdg.Button(\n",
    "    description='Update Data',\n",
    "    disabled=False,\n",
    "    button_style='success', \n",
    "    tooltip='Click button to update graphs and data to represent latest ',\n",
    "    icon='download'\n",
    ")\n",
    "\n",
    "apibutton.on_click(api_button_callback)\n",
    "display(apibutton)"
   ]
  },
  {
   "cell_type": "markdown",
   "metadata": {},
   "source": [
    "## Graphs and Analysis"
   ]
  },
  {
   "cell_type": "markdown",
   "metadata": {},
   "source": [
    "### Vaccination Effect\n",
    "\n",
    "This first graph shows the effect of the increasing number of vaccinations on the covid case, hospitalization and death rates. It can be seen from the graph, that as the number of vaccinations hits its peak, the number of covid cases and especially hospitalizations and deaths decrease greatly. It is only when the number of persons getting vaccinated starts to fall off ,that these negative metrics begin to rise again."
   ]
  },
  {
   "cell_type": "code",
   "execution_count": 10,
   "metadata": {},
   "outputs": [
    {
     "data": {
      "application/vnd.jupyter.widget-view+json": {
       "model_id": "9dcbd019e1384bf79a56a74c9ea648a5",
       "version_major": 2,
       "version_minor": 0
      },
      "text/plain": [
       "HBox(children=(SelectMultiple(description='Statistics:', index=(0, 1, 2, 3), options=('cases', 'hospital', 'de…"
      ]
     },
     "metadata": {},
     "output_type": "display_data"
    },
    {
     "data": {
      "application/vnd.jupyter.widget-view+json": {
       "model_id": "8c1b5f6c9db240aa8a75865ea8f1f0cd",
       "version_major": 2,
       "version_minor": 0
      },
      "text/plain": [
       "Output()"
      ]
     },
     "metadata": {},
     "output_type": "display_data"
    }
   ],
   "source": [
    "# creates a widget for selecting different elements of a graph\n",
    "series=wdg.SelectMultiple(\n",
    "    options=['cases', 'hospital', 'deaths', 'vaccines'],\n",
    "    value=['cases', 'hospital', 'deaths', 'vaccines'],\n",
    "    rows=4,\n",
    "    description='Statistics:',\n",
    "    disabled=False\n",
    ")\n",
    "\n",
    "# creates a widget for switching graph between log and linear\n",
    "scale1=wdg.RadioButtons(\n",
    "    options=['linear', 'log'],\n",
    "    description='Scale:',\n",
    "    disabled=False\n",
    ")\n",
    "\n",
    "\n",
    "controls1=wdg.HBox([series, scale1])\n",
    "clrplot = 0\n",
    "\n",
    "# function to plot the graph\n",
    "def VaccineEffect_graph(gcols, gscale):\n",
    "    if gscale=='linear':\n",
    "        logscale=False\n",
    "    else:\n",
    "        logscale=True\n",
    "    ncols=len(gcols)\n",
    "    if ncols>0:\n",
    "        vaccine_effectdf[list(gcols)].plot(logy=logscale)\n",
    "        plt.show()\n",
    "    else:\n",
    "        print(\"Click each category to see graph details\")\n",
    "        print(\"(CTRL + Click to select multiple categories)\")\n",
    "\n",
    "# function to refresh the graph with new data. Does this by simply switching from linear to log and back to linear graph to use new data.\n",
    "def refresh_graph1():\n",
    "    current=scale1.value\n",
    "    if current==scale1.options[0]:\n",
    "        other=scale1.options[1]\n",
    "    else:\n",
    "        other=scale1.options[0]\n",
    "    scale1.value=other \n",
    "    scale1.value=current \n",
    "    \n",
    "\n",
    "graph=wdg.interactive_output(VaccineEffect_graph, {'gcols': series, 'gscale': scale1})\n",
    "display(controls1, graph)"
   ]
  },
  {
   "cell_type": "markdown",
   "metadata": {},
   "source": [
    "### England vs Scotland \n",
    "\n",
    "The final two graphs in this webpage are used to compare the vaccination rollouts between **England** and **Scotland**. From the graphs it can be seen that between the two countries, Scotland managed to begin vaccinating the majority of its population earlier than England. The peak of vaccinations in Scotland started at around February, whilst in England only started in late March close to April.\n",
    "\n",
    "It can also be seen that their is quite a large discrepancy between the number of persons getting their first and second doses.In England there is around a 200,000 discrepancy between the peak of those getting their first and second doses, whilst in Scotland this discrepancy is around 100,000."
   ]
  },
  {
   "cell_type": "code",
   "execution_count": 11,
   "metadata": {},
   "outputs": [
    {
     "data": {
      "application/vnd.jupyter.widget-view+json": {
       "model_id": "8d46fd0a9ad54ae3a0fce4ecc709af0d",
       "version_major": 2,
       "version_minor": 0
      },
      "text/plain": [
       "HBox(children=(SelectMultiple(description='Statistics:', index=(0, 1), options=('vaccines1', 'vaccines2'), row…"
      ]
     },
     "metadata": {},
     "output_type": "display_data"
    },
    {
     "data": {
      "application/vnd.jupyter.widget-view+json": {
       "model_id": "8eb7a53c75ae41608c3297b5d9c12789",
       "version_major": 2,
       "version_minor": 0
      },
      "text/plain": [
       "Output()"
      ]
     },
     "metadata": {},
     "output_type": "display_data"
    }
   ],
   "source": [
    "series=wdg.SelectMultiple(\n",
    "    options=['vaccines1', 'vaccines2'],\n",
    "    value=['vaccines1', 'vaccines2'],\n",
    "    rows=4,\n",
    "    description='Statistics:',\n",
    "    disabled=False\n",
    ")\n",
    "\n",
    "scale2=wdg.RadioButtons(\n",
    "    options=['linear', 'log'],\n",
    "    description='Scale:',\n",
    "    disabled=False\n",
    ")\n",
    "\n",
    "\n",
    "controls2=wdg.HBox([series, scale2])\n",
    "clrplot = 0\n",
    "\n",
    "def VaccinationEngland_graph(gcols, gscale):\n",
    "    if gscale=='linear':\n",
    "        logscale=False\n",
    "    else:\n",
    "        logscale=True\n",
    "    ncols=len(gcols)\n",
    "    if ncols>0:\n",
    "        vaccination_Englanddf[list(gcols)].plot(logy=logscale)\n",
    "        plt.show()\n",
    "    else:\n",
    "        print(\"Click each category to see graph details\")\n",
    "        print(\"(CTRL + Click to select multiple categories)\")\n",
    "        \n",
    "\n",
    "def refresh_graph2():\n",
    "    current=scale2.value\n",
    "    if current==scale2.options[0]:\n",
    "        other=scale2.options[1]\n",
    "    else:\n",
    "        other=scale2.options[0]\n",
    "    scale2.value=other \n",
    "    scale2.value=current \n",
    "    \n",
    "\n",
    "graph=wdg.interactive_output(VaccinationEngland_graph, {'gcols': series, 'gscale': scale2})\n",
    "display(controls2, graph)"
   ]
  },
  {
   "cell_type": "code",
   "execution_count": 12,
   "metadata": {},
   "outputs": [
    {
     "data": {
      "application/vnd.jupyter.widget-view+json": {
       "model_id": "e11fbce04a5b499193c330499e5f7f30",
       "version_major": 2,
       "version_minor": 0
      },
      "text/plain": [
       "HBox(children=(SelectMultiple(description='Statistics:', index=(0, 1), options=('vaccines1', 'vaccines2'), row…"
      ]
     },
     "metadata": {},
     "output_type": "display_data"
    },
    {
     "data": {
      "application/vnd.jupyter.widget-view+json": {
       "model_id": "d40af318ee9b46069ac70b8ea7e8320c",
       "version_major": 2,
       "version_minor": 0
      },
      "text/plain": [
       "Output()"
      ]
     },
     "metadata": {},
     "output_type": "display_data"
    }
   ],
   "source": [
    "series=wdg.SelectMultiple(\n",
    "    options=['vaccines1', 'vaccines2'],\n",
    "    value=['vaccines1', 'vaccines2'],\n",
    "    rows=4,\n",
    "    description='Statistics:',\n",
    "    disabled=False\n",
    ")\n",
    "\n",
    "scale3=wdg.RadioButtons(\n",
    "    options=['linear', 'log'],\n",
    "    description='Scale:',\n",
    "    disabled=False\n",
    ")\n",
    "\n",
    "\n",
    "controls3=wdg.HBox([series, scale3])\n",
    "clrplot = 0\n",
    "def VaccinationScotland_graph(gcols, gscale):\n",
    "    if gscale=='linear':\n",
    "        logscale=False\n",
    "    else:\n",
    "        logscale=True\n",
    "    ncols=len(gcols)\n",
    "    if ncols>0:\n",
    "        vaccination_Scotlanddf[list(gcols)].plot(logy=logscale)\n",
    "        plt.show()\n",
    "    else:\n",
    "        print(\"Click each category to see graph details\")\n",
    "        print(\"(CTRL + Click to select multiple categories)\")\n",
    "\n",
    "def refresh_graph3():\n",
    "    current=scale3.value\n",
    "    if current==scale3.options[0]:\n",
    "        other=scale3.options[1]\n",
    "    else:\n",
    "        other=scale3.options[0]\n",
    "    scale3.value=other \n",
    "    scale3.value=current \n",
    "        \n",
    "graph=wdg.interactive_output(VaccinationScotland_graph, {'gcols': series, 'gscale': scale3})\n",
    "display(controls3, graph)"
   ]
  },
  {
   "cell_type": "markdown",
   "metadata": {},
   "source": [
    "**Author and Copyright Notice** Created by David Browne. *Based on UK Government [data](https://coronavirus.data.gov.uk/) published by [Public Health England](https://www.gov.uk/government/organisations/public-health-england).*"
   ]
  }
 ],
 "metadata": {
  "kernelspec": {
   "display_name": "Python 3 (ipykernel)",
   "language": "python",
   "name": "python3"
  },
  "language_info": {
   "codemirror_mode": {
    "name": "ipython",
    "version": 3
   },
   "file_extension": ".py",
   "mimetype": "text/x-python",
   "name": "python",
   "nbconvert_exporter": "python",
   "pygments_lexer": "ipython3",
   "version": "3.9.6"
  }
 },
 "nbformat": 4,
 "nbformat_minor": 4
}
